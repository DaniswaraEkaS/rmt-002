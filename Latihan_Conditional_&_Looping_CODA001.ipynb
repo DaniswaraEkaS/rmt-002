{
  "nbformat": 4,
  "nbformat_minor": 0,
  "metadata": {
    "colab": {
      "provenance": []
    },
    "kernelspec": {
      "name": "python3",
      "display_name": "Python 3"
    },
    "language_info": {
      "name": "python"
    }
  },
  "cells": [
    {
      "cell_type": "markdown",
      "source": [
        "# LATIHAN - P0W1D3AM : Conditional & Looping"
      ],
      "metadata": {
        "id": "f3fwm9AXSf4W"
      }
    },
    {
      "cell_type": "markdown",
      "source": [
        "**NOMOR 1**\n",
        "\n",
        "Buatlah sebuah kondisi untuk mengecek apakah variabel `a` **lebih kecil** dari variabel `b` berdasarkan nilai dibawah ini :\n",
        "* `a` = 100\n",
        "* `b` = 200\n",
        "\n",
        "Jika `True` maka tulis/cetak `a lebih kecil dari b`"
      ],
      "metadata": {
        "id": "KwQ65oWbSk3E"
      }
    },
    {
      "cell_type": "code",
      "source": [
        "a = 100\n",
        "b = 200"
      ],
      "metadata": {
        "id": "1dOaqbUuIK2W"
      },
      "execution_count": 2,
      "outputs": []
    },
    {
      "cell_type": "code",
      "source": [
        "if a < b:\n",
        "  print('a lebih kecil dari b')"
      ],
      "metadata": {
        "id": "Rpd424VzMZba",
        "colab": {
          "base_uri": "https://localhost:8080/"
        },
        "outputId": "55825fc4-5a84-4b8b-9185-3d356c6c5eaf"
      },
      "execution_count": 3,
      "outputs": [
        {
          "output_type": "stream",
          "name": "stdout",
          "text": [
            "a lebih kecil dari b\n"
          ]
        }
      ]
    },
    {
      "cell_type": "code",
      "source": [
        "\n",
        "a = 100\n",
        "b =200\n",
        "if a < b:\n",
        "  print('a lebih kecil dari b')"
      ],
      "metadata": {
        "id": "xGs5OVWz_rpM",
        "colab": {
          "base_uri": "https://localhost:8080/"
        },
        "outputId": "847c8f53-0c13-4e8a-e8cc-c2a202deba3d"
      },
      "execution_count": 4,
      "outputs": [
        {
          "output_type": "stream",
          "name": "stdout",
          "text": [
            "a lebih kecil dari b\n"
          ]
        }
      ]
    },
    {
      "cell_type": "markdown",
      "source": [
        "**NOMOR 2**\n",
        "\n",
        "Buatlah sebuah kondisi untuk mengecek apakah variabel `a` **lebih besar** dari variabel `b` berdasarkan nilai dibawah ini :\n",
        "* `a` = 100\n",
        "* `b` = 200\n",
        "\n",
        "Jika `True` maka tulis/cetak `a lebih besar dari b`"
      ],
      "metadata": {
        "id": "3VTram85TxLA"
      }
    },
    {
      "cell_type": "code",
      "source": [
        "a = 100\n",
        "b = 200\n",
        "if a > b:\n",
        "  print('a lebih besar dari b')"
      ],
      "metadata": {
        "id": "jGmT77M4MYuB"
      },
      "execution_count": 19,
      "outputs": []
    },
    {
      "cell_type": "markdown",
      "source": [
        "**NOMOR 3**\n",
        "\n",
        "Buatlah sebuah kondisi untuk mengecek apakah variabel `a` **tidak sama dengan**  variabel `b` berdasarkan nilai dibawah ini :\n",
        "* `a` = `januari`\n",
        "* `b` = `februari`\n",
        "\n",
        "Jika `True` maka tulis/cetak `a tidak sama dengan b`\n",
        "\n",
        "Jika `False` maka tulis/cetak `a sama dengan b`"
      ],
      "metadata": {
        "id": "nJ04rhbDUDuI"
      }
    },
    {
      "cell_type": "code",
      "source": [
        "a = 'januari'\n",
        "b = 'februari'\n",
        "\n",
        "if a != b :\n",
        "  print('a tidak sama dengan b')\n",
        "if a == b :\n",
        "  print('a sama dengan b')"
      ],
      "metadata": {
        "id": "HvwYDFVGMfdT",
        "colab": {
          "base_uri": "https://localhost:8080/"
        },
        "outputId": "c18778dd-02ff-456f-fdf3-5fdd7679b1d7"
      },
      "execution_count": 18,
      "outputs": [
        {
          "output_type": "stream",
          "name": "stdout",
          "text": [
            "a tidak sama dengan b\n"
          ]
        }
      ]
    },
    {
      "cell_type": "markdown",
      "source": [
        "**NOMOR 4**\n",
        "\n",
        "Buatlah sebuah kondisi untuk mengecek apakah variabel `a` **sama dengan**  variabel `b` berdasarkan nilai dibawah ini :\n",
        "* `a` = 1000\n",
        "* `b` = 1000.0\n",
        "\n",
        "Jika `True` maka jangan menampilkan apapun\n",
        "\n",
        "Jika `False` maka tulis/cetak `a tidak sama dengan b`"
      ],
      "metadata": {
        "id": "bbHY6mLEfCtm"
      }
    },
    {
      "cell_type": "code",
      "source": [
        "a = 1000\n",
        "b = 1000.0\n",
        "\n",
        "if a == b :\n",
        "  print()\n",
        "if a != b :\n",
        "  print('a tidak sama dengan b')\n"
      ],
      "metadata": {
        "id": "boNpvqT0MhkK",
        "colab": {
          "base_uri": "https://localhost:8080/"
        },
        "outputId": "bdff5c0c-4d0e-40a8-de56-f71e279621ac"
      },
      "execution_count": 21,
      "outputs": [
        {
          "output_type": "stream",
          "name": "stdout",
          "text": [
            "\n"
          ]
        }
      ]
    },
    {
      "cell_type": "markdown",
      "source": [
        "**NOMOR 5**\n",
        "\n",
        "Buatlah sebuah kondisi untuk mengecek apakah variabel `a` **berbeda**  variabel `b` berdasarkan nilai dibawah ini :\n",
        "* `angka_ganjil` = `[1, 3, 5, 7]`\n",
        "* `angka_genap`  = `[2, 4, 6, 8]`\n",
        "\n",
        "Jika `True` maka tulis/cetak `a berbeda dengan b`\n",
        "\n",
        "Jika `False` maka tulis/cetak `a sama dengan b`"
      ],
      "metadata": {
        "id": "b_v1w6L-VsD8"
      }
    },
    {
      "cell_type": "code",
      "source": [
        "a = [1,3,5,7]\n",
        "b = [2,4,6,8]\n",
        "\n",
        "if a != b :\n",
        "  print('a berbeda dengan b')\n",
        "if a == b :\n",
        "  print('a sama dengan b')"
      ],
      "metadata": {
        "id": "RgkXSGk8MjIb",
        "colab": {
          "base_uri": "https://localhost:8080/"
        },
        "outputId": "4d8d1688-c05a-46c8-af91-de1756a03b90"
      },
      "execution_count": 20,
      "outputs": [
        {
          "output_type": "stream",
          "name": "stdout",
          "text": [
            "a berbeda dengan b\n"
          ]
        }
      ]
    },
    {
      "cell_type": "markdown",
      "source": [
        "**NOMOR 6**\n",
        "\n",
        "Buatlah sebuah kondisi untuk mengecek apakah variabel-variabel dibawah ini termasuk salah satu nilai dari variabel lain atau tidak\n",
        "\n",
        "* *`pendidikan` = `s1`* terhadap *`daftar_pendidikan` = ['s1', 's2', 's3']*\n",
        "* *`nama` = `budi`* terhadap *`nama_lengkap` = `budi kurniawan`*\n",
        "\n",
        "Jika True maka tulis/cetak `merupakan bagian`\n",
        "\n",
        "Jika False maka tulis/cetak `bukan merupakan bagian`"
      ],
      "metadata": {
        "id": "QAuu7AtZeHHo"
      }
    },
    {
      "cell_type": "code",
      "source": [
        "pendidikan = 's1'\n",
        "nama = 'budi'\n",
        "\n",
        "if  pendidikan in ['s1', 's2', 's1']:\n",
        "    print('merupakan bagian')\n",
        "else:\n",
        "    print('bukan merupakan bagian')\n",
        "if  nama in 'budi kurniawan':\n",
        "    print('merupakan bagian')\n",
        "else:\n",
        "    print('bukan merupakan bagian')"
      ],
      "metadata": {
        "id": "hoYra7dFMnnO",
        "colab": {
          "base_uri": "https://localhost:8080/"
        },
        "outputId": "b482b7d7-fc19-46d6-dd38-fa6cfad9257b"
      },
      "execution_count": 38,
      "outputs": [
        {
          "output_type": "stream",
          "name": "stdout",
          "text": [
            "merupakan bagian\n",
            "merupakan bagian\n"
          ]
        }
      ]
    },
    {
      "cell_type": "markdown",
      "source": [
        "**NOMOR 7**\n",
        "\n",
        "Buatlah sebuah kondisi untuk mengecek hubungan dua variabel dibawah ini :\n",
        "\n",
        "* `a` = 100\n",
        "* `b` = 100\n",
        "\n",
        "Jika `a < b` maka tulis/cetak `a lebih kecil dari b`\n",
        "\n",
        "Jika `a > b` maka tulis/cetak `a lebih besar dari b`\n",
        "\n",
        "Selain kondisi diatas, maka tulis/cetak `a sama dengan b`"
      ],
      "metadata": {
        "id": "xKB0rquQgyU1"
      }
    },
    {
      "cell_type": "code",
      "source": [
        "a = 100\n",
        "b = 100\n",
        "\n",
        "if a<b:\n",
        "  print('a lebih kecil dari b')\n",
        "if a>b:\n",
        "  print('a lebih besar dari b')\n",
        "else:\n",
        "  print('a sama dengan b')"
      ],
      "metadata": {
        "id": "CslJaYt_MxEp",
        "colab": {
          "base_uri": "https://localhost:8080/"
        },
        "outputId": "3febcbf0-92a7-42da-d615-d22694b72360"
      },
      "execution_count": 22,
      "outputs": [
        {
          "output_type": "stream",
          "name": "stdout",
          "text": [
            "a sama dengan b\n"
          ]
        }
      ]
    },
    {
      "cell_type": "markdown",
      "source": [
        "**NOMOR 8**\n",
        "\n",
        "Buatlah sebuah kondisi untuk memilih menu makanan dengan syarat :\n",
        "\n",
        "* Pilih `nasi goreng` jika uang yang dimiliki lebih dari sama dengan Rp 15.000,-\n",
        "* Pilih `ketoprak` jika uang yang dimiliki lebih dari sama dengan Rp 10.000 dan kurang dari Rp 15.000,-\n",
        "* Pilih `batagor` jika uang yang dimiliki lebih dari sama dengan Rp 5.000 dan kurang Rp 10.000,-\n",
        "* Pilih `es teh manis` jika uang yang dimiliki kurang dari Rp 5000"
      ],
      "metadata": {
        "id": "6-2lRRq0e0v2"
      }
    },
    {
      "cell_type": "code",
      "source": [
        "#input\n",
        "uang = 13000\n",
        "\n",
        "\n",
        "if uang >= 15000:\n",
        "    print('nasi_goreng')\n",
        "elif uang >= 10000 and uang < 15000:\n",
        "    print('ketoprak')\n",
        "elif uang >= 5000 and uang < 10000:\n",
        "    print('batagor')\n",
        "elif uang < 5000:\n",
        "    print('es_teh')"
      ],
      "metadata": {
        "id": "a6nGhaBS30h5",
        "colab": {
          "base_uri": "https://localhost:8080/"
        },
        "outputId": "c1165aa7-70a4-4a98-e25c-09cd9d21971f"
      },
      "execution_count": 28,
      "outputs": [
        {
          "output_type": "stream",
          "name": "stdout",
          "text": [
            "ketoprak\n"
          ]
        }
      ]
    },
    {
      "cell_type": "markdown",
      "source": [
        "**NOMOR 9**\n",
        "\n",
        "Buatlah sebuah perulangan untuk mencetak/menulis kata `hello` sebanyak `5` kali."
      ],
      "metadata": {
        "id": "0LRQikHLhzxx"
      }
    },
    {
      "cell_type": "code",
      "source": [
        "a = 5\n",
        "while a > 0:\n",
        "    a -= 1\n",
        "    print('hello')"
      ],
      "metadata": {
        "id": "Xsti9HXWM95y",
        "colab": {
          "base_uri": "https://localhost:8080/"
        },
        "outputId": "efba9e76-96c5-4f8a-dcd6-013360d936c2"
      },
      "execution_count": 34,
      "outputs": [
        {
          "output_type": "stream",
          "name": "stdout",
          "text": [
            "hello\n",
            "hello\n",
            "hello\n",
            "hello\n",
            "hello\n"
          ]
        }
      ]
    },
    {
      "cell_type": "markdown",
      "source": [
        "**NOMOR 10**\n",
        "\n",
        "Buatlah sebuah perulangan untuk menampilkan angka dari `0` - `5`\n",
        "\n",
        "*Hasil : 0, 1, 2, 3, 4, 5*"
      ],
      "metadata": {
        "id": "q1u5JgNcjDER"
      }
    },
    {
      "cell_type": "code",
      "source": [
        "a = 0\n",
        "while a <= 5:\n",
        "  print(a)\n",
        "  a += 1"
      ],
      "metadata": {
        "id": "_5D3mGIIM9gQ",
        "colab": {
          "base_uri": "https://localhost:8080/"
        },
        "outputId": "0b52872b-b7b4-4675-ab1e-e77ee39a17de"
      },
      "execution_count": 76,
      "outputs": [
        {
          "output_type": "stream",
          "name": "stdout",
          "text": [
            "0\n",
            "1\n",
            "2\n",
            "3\n",
            "4\n",
            "5\n"
          ]
        }
      ]
    },
    {
      "cell_type": "markdown",
      "source": [
        "**NOMOR 11**\n",
        "\n",
        "Buatlah sebuah perulangan untuk menampilkan angka dari `3` - `5`\n",
        "\n",
        "*Hasil : 3, 4, 5*"
      ],
      "metadata": {
        "id": "1D-AQ-pij46e"
      }
    },
    {
      "cell_type": "code",
      "source": [
        "a = 3\n",
        "while a <= 5:\n",
        "  print(a)\n",
        "  a += 1\n",
        "\n"
      ],
      "metadata": {
        "id": "_dZoILmlM_2t",
        "colab": {
          "base_uri": "https://localhost:8080/"
        },
        "outputId": "28abd0f6-f1cc-4647-9522-65f3f1f34b9a"
      },
      "execution_count": 77,
      "outputs": [
        {
          "output_type": "stream",
          "name": "stdout",
          "text": [
            "3\n",
            "4\n",
            "5\n"
          ]
        }
      ]
    },
    {
      "cell_type": "markdown",
      "source": [
        "**NOMOR 12**\n",
        "\n",
        "Buatlah sebuah perulangan untuk menampilkan angka dari `1` - `10` dengan jarak angka adalah `3`\n",
        "\n",
        "*Hasil : 1, 4, 7, 10*"
      ],
      "metadata": {
        "id": "uSEVraIukViN"
      }
    },
    {
      "cell_type": "code",
      "source": [
        "a = 1\n",
        "while a <= 10:\n",
        "  print(a)\n",
        "  a += 3"
      ],
      "metadata": {
        "id": "-ABJEE5nNBCW",
        "colab": {
          "base_uri": "https://localhost:8080/"
        },
        "outputId": "6bef6e39-816e-4c53-b0cf-acd972d14da1"
      },
      "execution_count": 78,
      "outputs": [
        {
          "output_type": "stream",
          "name": "stdout",
          "text": [
            "1\n",
            "4\n",
            "7\n",
            "10\n"
          ]
        }
      ]
    },
    {
      "cell_type": "markdown",
      "source": [
        "**NOMOR 13**\n",
        "\n",
        "Buatlah sebuah perulangan untuk menampilkan angka dari `1` - `10` dan berhenti dengan kondisi jika angka tersebut adalah `8`\n",
        "\n",
        "*Hasil : 1, 2, 3, 4, 5, 6, 7, 8*"
      ],
      "metadata": {
        "id": "DtDfto_5k75u"
      }
    },
    {
      "cell_type": "code",
      "source": [
        "a = 0\n",
        "while a < 10:\n",
        "  a += 1\n",
        "  print(a)\n",
        "  if a == 8:\n",
        "      break\n"
      ],
      "metadata": {
        "id": "JpetMN9oNGMN",
        "colab": {
          "base_uri": "https://localhost:8080/"
        },
        "outputId": "b4b3765a-ccd3-4ba2-f913-7ecc662622a8"
      },
      "execution_count": 109,
      "outputs": [
        {
          "output_type": "stream",
          "name": "stdout",
          "text": [
            "1\n",
            "2\n",
            "3\n",
            "4\n",
            "5\n",
            "6\n",
            "7\n",
            "8\n"
          ]
        }
      ]
    },
    {
      "cell_type": "markdown",
      "source": [
        "**NOMOR 14**\n",
        "\n",
        "Buatlah sebuah perulangan untuk menampilkan angka genap dari `1` - `10` dan angka tersebut kurang dari sama dengan 6\n",
        "\n",
        "*Hasil : 2, 4, 6*"
      ],
      "metadata": {
        "id": "xHUh5DxDmkjm"
      }
    },
    {
      "cell_type": "code",
      "source": [
        "a = 1\n",
        "while a < 10:\n",
        "  a += 1\n",
        "  if a % 2 == 1:\n",
        "    continue\n",
        "  print(i)\n",
        "  if a == 6:\n",
        "    break"
      ],
      "metadata": {
        "id": "DdWcD-ZJNHN0",
        "colab": {
          "base_uri": "https://localhost:8080/"
        },
        "outputId": "6ed92e35-5488-4fba-bde5-2d0ce96c99df"
      },
      "execution_count": 102,
      "outputs": [
        {
          "output_type": "stream",
          "name": "stdout",
          "text": [
            "2\n",
            "4\n",
            "6\n"
          ]
        }
      ]
    },
    {
      "cell_type": "markdown",
      "source": [
        "**NOMOR 15**\n",
        "\n",
        "Buatlah sebuah perulangan untuk menampilkan isi dari variabel list dibawah ini :\n",
        "\n",
        "* `daftar_nama` = `['anwar', 'budi', 'cecep', 'deny']`"
      ],
      "metadata": {
        "id": "eHuyyy7cmFTc"
      }
    },
    {
      "cell_type": "code",
      "source": [
        "daftar_nama = ['anwar', 'budi', 'cecep', 'deny']\n",
        "\n",
        "while len(daftar_nama):\n",
        "    print(daftar_nama.pop(0))\n"
      ],
      "metadata": {
        "id": "FXpoig-GNKdo",
        "colab": {
          "base_uri": "https://localhost:8080/"
        },
        "outputId": "6d2d2252-5f5d-4469-ad08-bc7d5dfc99c0"
      },
      "execution_count": 112,
      "outputs": [
        {
          "output_type": "stream",
          "name": "stdout",
          "text": [
            "anwar\n",
            "budi\n",
            "cecep\n",
            "deny\n"
          ]
        }
      ]
    }
  ]
}